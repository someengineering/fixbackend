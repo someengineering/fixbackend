{
 "cells": [
  {
   "cell_type": "code",
   "execution_count": null,
   "metadata": {},
   "outputs": [],
   "source": []
  },
  {
   "cell_type": "code",
   "execution_count": 3,
   "metadata": {},
   "outputs": [],
   "source": [
    "foo ={\"foo\": \n",
    "    {\n",
    "    \"score\": 76,\n",
    "    \"failed\": {\n",
    "        \"critical\": {\"checks\": 3, \"resources\": 6},\n",
    "        \"medium\": {\"checks\": 14, \"resources\": 18},\n",
    "        \"high\": {\"checks\": 3, \"resources\": 3},\n",
    "        \"info\": {\"checks\": 2, \"resources\": 8},\n",
    "    },\n",
    "},\n",
    "\"nis-2\": {\n",
    "    \"score\": 70,\n",
    "    \"failed\": {\n",
    "        \"high\": {\"checks\": 1, \"resources\": 1},\n",
    "        \"medium\": {\"checks\": 15, \"resources\": 19},\n",
    "        \"info\": {\"checks\": 2, \"resources\": 8},\n",
    "        \"critical\": {\"checks\": 2, \"resources\": 2},\n",
    "    },\n",
    "},\n",
    "\"aws_cis_2_0\": {\n",
    "    \"score\": 89,\n",
    "    \"failed\": {\n",
    "        \"medium\": {\"checks\": 6, \"resources\": 10},\n",
    "        \"low\": {\"checks\": 2, \"resources\": 8},\n",
    "        \"high\": {\"checks\": 1, \"resources\": 1},\n",
    "        \"info\": {\"checks\": 1, \"resources\": 4},\n",
    "    },\n",
    "},\n",
    "\"aws_cis_1_5\": {\n",
    "    \"score\": 89,\n",
    "    \"failed\": {\n",
    "        \"medium\": {\"checks\": 6, \"resources\": 10},\n",
    "        \"low\": {\"checks\": 2, \"resources\": 8},\n",
    "        \"high\": {\"checks\": 1, \"resources\": 1},\n",
    "        \"info\": {\"checks\": 1, \"resources\": 4},\n",
    "    },\n",
    "},\n",
    "\"aws_well_architected_framework_security_pillar\": {\n",
    "    \"score\": 85,\n",
    "    \"failed\": {\n",
    "        \"high\": {\"checks\": 5, \"resources\": 8},\n",
    "        \"low\": {\"checks\": 3, \"resources\": 12},\n",
    "        \"medium\": {\"checks\": 29, \"resources\": 39},\n",
    "        \"info\": {\"checks\": 2, \"resources\": 8},\n",
    "    },\n",
    "},\n",
    "}"
   ]
  },
  {
   "cell_type": "code",
   "execution_count": 12,
   "metadata": {},
   "outputs": [],
   "source": [
    "total = 0"
   ]
  },
  {
   "cell_type": "code",
   "execution_count": 13,
   "metadata": {},
   "outputs": [],
   "source": [
    "severity_count = {}"
   ]
  },
  {
   "cell_type": "code",
   "execution_count": 14,
   "metadata": {},
   "outputs": [],
   "source": [
    "for name, info in foo.items():\n",
    "    for severity, checks in info[\"failed\"].items():\n",
    "        total += checks[\"checks\"]\n",
    "        existing = severity_count.get(severity, 0)\n",
    "        severity_count[severity] = existing + checks[\"resources\"]"
   ]
  },
  {
   "cell_type": "code",
   "execution_count": 15,
   "metadata": {},
   "outputs": [
    {
     "data": {
      "text/plain": [
       "101"
      ]
     },
     "execution_count": 15,
     "metadata": {},
     "output_type": "execute_result"
    }
   ],
   "source": [
    "total"
   ]
  },
  {
   "cell_type": "code",
   "execution_count": 16,
   "metadata": {},
   "outputs": [
    {
     "data": {
      "text/plain": [
       "62"
      ]
     },
     "execution_count": 16,
     "metadata": {},
     "output_type": "execute_result"
    }
   ],
   "source": [
    "7+33+6+4+12"
   ]
  },
  {
   "cell_type": "code",
   "execution_count": 17,
   "metadata": {},
   "outputs": [
    {
     "data": {
      "text/plain": [
       "{'critical': 8, 'medium': 96, 'high': 14, 'info': 32, 'low': 28}"
      ]
     },
     "execution_count": 17,
     "metadata": {},
     "output_type": "execute_result"
    }
   ],
   "source": [
    "severity_count"
   ]
  },
  {
   "cell_type": "code",
   "execution_count": null,
   "metadata": {},
   "outputs": [],
   "source": []
  }
 ],
 "metadata": {
  "kernelspec": {
   "display_name": ".venv",
   "language": "python",
   "name": "python3"
  },
  "language_info": {
   "codemirror_mode": {
    "name": "ipython",
    "version": 3
   },
   "file_extension": ".py",
   "mimetype": "text/x-python",
   "name": "python",
   "nbconvert_exporter": "python",
   "pygments_lexer": "ipython3",
   "version": "3.12.4"
  }
 },
 "nbformat": 4,
 "nbformat_minor": 2
}
